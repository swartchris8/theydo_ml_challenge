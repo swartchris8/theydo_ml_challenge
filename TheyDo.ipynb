{
 "cells": [
  {
   "cell_type": "markdown",
   "id": "42484c9f-f186-463e-8e5f-7437b1cdcc31",
   "metadata": {},
   "source": [
    "## TheyDo Technical Interview\n",
    "\n",
    "### Finetune a model for:\n",
    "1. summarisation\n",
    "2. translation\n",
    "3. sentiment analysis\n",
    "\n",
    "Based on a dataset from [llama paper](https://arxiv.org/pdf/2302.13971.pdf)\n",
    "\n",
    "Couldn't find a clear summarisation, translation or sentiment analysis dataset from the paper."
   ]
  },
  {
   "cell_type": "code",
   "execution_count": null,
   "id": "c471e287-01c9-4c90-b566-ae2e0d01e463",
   "metadata": {},
   "outputs": [],
   "source": []
  },
  {
   "cell_type": "markdown",
   "id": "37766493-78a2-479a-b2bd-8015d5cbfbd3",
   "metadata": {},
   "source": [
    "### Finetune Summarisation model\n",
    "\n",
    "Which model should we go for?\n",
    "\n",
    "<img src=\"cnn_dailymail_summarisation_landscape.png\">\n",
    "\n",
    "T5 is a great model for any text to text task as such a great fit for summarisation and translationg.\n",
    "I have used T5 before and the small T5 can be finetuned on my Mac.\n",
    "\n",
    "How to measure summarisation performance?\n",
    "\n",
    "ROUGE-1 refers to the overlap of unigrams (each word) between the system and reference summaries\n",
    "ROUGE-2 bigram of above\n",
    "ROUGE-L Longest Common Subsequence (LCS) based score on sentences\n",
    "ROUGE-LSUM Take new lines as sentence boundaries and then LCS score\n",
    "\n",
    "---\n",
    "\n",
    "\n",
    "Train eval test 5/5/5\n",
    "  \n",
    "***** eval metrics *****\n",
    "  epoch                   =        3.0\n",
    "  eval_gen_len            =       54.4\n",
    "  eval_loss               =     2.4578\n",
    "  eval_rouge1             =    20.1191\n",
    "  eval_rouge2             =     3.2284\n",
    "  eval_rougeL             =    14.6009\n",
    "  eval_rougeLsum          =    19.8187\n",
    "  eval_runtime            = 0:00:04.03\n",
    "  eval_samples            =          5\n",
    "  eval_samples_per_second =      1.238\n",
    "  eval_steps_per_second   =      0.495\n",
    "\n",
    "Train eval test 2000 500 500\n",
    "\n",
    "***** eval metrics *****\n",
    "\"epoch\": 3.0,\n",
    "\"eval_gen_len\": 59.248,\n",
    "\"eval_loss\": 2.052272081375122,\n",
    "\"eval_rouge1\": 31.186,\n",
    "\"eval_rouge2\": 11.7692,\n",
    "\"eval_rougeL\": 22.3708,\n",
    "\"eval_rougeLsum\": 28.5695,\n",
    "\"eval_runtime\": 2077.82,\n",
    "\"eval_samples\": 500,\n",
    "\"eval_samples_per_second\": 0.241,\n",
    "\"eval_steps_per_second\": 0.06\n",
    "\n",
    "\n",
    "\n",
    "\n",
    "  "
   ]
  },
  {
   "cell_type": "code",
   "execution_count": 1,
   "id": "9af06134-8d70-4c5e-8789-4154bfa99d57",
   "metadata": {},
   "outputs": [
    {
     "name": "stderr",
     "output_type": "stream",
     "text": [
      "/Users/chris/work/theydo_ml_challenge/theydo/lib/python3.11/site-packages/tqdm/auto.py:21: TqdmWarning: IProgress not found. Please update jupyter and ipywidgets. See https://ipywidgets.readthedocs.io/en/stable/user_install.html\n",
      "  from .autonotebook import tqdm as notebook_tqdm\n"
     ]
    }
   ],
   "source": [
    "from transformers import AutoModelForSeq2SeqLM, AutoTokenizer\n",
    "\n",
    "tokenizer = AutoTokenizer.from_pretrained(\"finetuned_summarisation\")\n",
    "model = AutoModelForSeq2SeqLM.from_pretrained(\"finetuned_summarisation\")\n"
   ]
  },
  {
   "cell_type": "code",
   "execution_count": 2,
   "id": "98514773-5e59-40bb-b3d5-cb3795e54cb3",
   "metadata": {},
   "outputs": [],
   "source": [
    "example = \"\"\"WASHINGTON, June 7 (Reuters) - \n",
    "\n",
    "Ukrainians abandoned inundated homes on Wednesday as floods crested across the south after the destruction of the dam, with Russia and Ukraine trading blame for the disaster.\n",
    "\n",
    "The World Bank will support Ukraine by conducting a rapid assessment of damage and needs after Tuesday's destruction of a huge hydroelectric dam on the front lines between Russian and Ukrainian forces, a top bank official said on Wednesday.\n",
    "\n",
    "Anna Bjerde, the World Bank's managing director for operations, said on Twitter the destruction of the Novo Kakhovka dam had \"many very serious consequences for essential service delivery and the broader environment.\"\n",
    "\n",
    "Ukrainian Prime Minister Denys Shmyhal, also writing on Twitter, said he spoke with Bjerde about the impact of the dam's collapse, and she assured him the World Bank would carry out a rapid assessment of the damage and needs.\n",
    "\n",
    "The World Bank will support Ukraine by conducting a rapid assessment of damage and needs after Tuesday's destruction of a huge hydroelectric dam on the front lines between Russian and Ukrainian forces, a top bank official said on Wednesday.\n",
    "\n",
    "Ukrainians abandoned inundated homes on Wednesday as floods crested across the south after the destruction of the dam, with Russia and Ukraine trading blame for the disaster.\n",
    "\n",
    "Ukraine said the deluge would leave hundreds of thousands of people without access to drinking water, swamp tens of thousands of hectares of agricultural land and turn at least 500,000 hectares deprived of irrigation into \"deserts\".\"\"\""
   ]
  },
  {
   "cell_type": "code",
   "execution_count": 3,
   "id": "8842f9aa-4424-452a-9575-0250dce3aafd",
   "metadata": {},
   "outputs": [],
   "source": [
    "example = example.strip()"
   ]
  },
  {
   "cell_type": "code",
   "execution_count": 4,
   "id": "7071ec13-fe69-4d25-8052-c735ff643cac",
   "metadata": {},
   "outputs": [
    {
     "name": "stdout",
     "output_type": "stream",
     "text": [
      "World Bank will support Ukraine by conducting a rapid assessment of damage and needs. Ukrainians\n"
     ]
    },
    {
     "name": "stderr",
     "output_type": "stream",
     "text": [
      "/Users/chris/work/theydo_ml_challenge/theydo/lib/python3.11/site-packages/transformers/generation/utils.py:1346: UserWarning: Using `max_length`'s default (20) to control the generation length. This behaviour is deprecated and will be removed from the config in v5 of Transformers -- we recommend using `max_new_tokens` to control the maximum length of the generation.\n",
      "  warnings.warn(\n"
     ]
    }
   ],
   "source": [
    "input_ids = tokenizer(f\"summarize: {example}\", return_tensors=\"pt\").input_ids\n",
    "outputs = model.generate(input_ids)\n",
    "print(tokenizer.decode(outputs[0], skip_special_tokens=True))"
   ]
  },
  {
   "cell_type": "code",
   "execution_count": 7,
   "id": "38950f1e-2824-4210-9131-e11de4adbfd8",
   "metadata": {},
   "outputs": [],
   "source": [
    "# TODO load saved models and test them"
   ]
  },
  {
   "cell_type": "code",
   "execution_count": 10,
   "id": "8acdcf57-3fc9-4645-a596-5aa661517314",
   "metadata": {},
   "outputs": [],
   "source": [
    "from transformers import AutoModelForSeq2SeqLM, AutoTokenizer\n",
    "\n",
    "tokenizer = AutoTokenizer.from_pretrained(\"finetuned_de-en_translation\")\n",
    "model = AutoModelForSeq2SeqLM.from_pretrained(\"finetuned_de-en_translation\")\n",
    "\n",
    "\n",
    "# task_prefix = \"translate German to English: \"\n",
    "task_prefix = \"\"\n",
    "\n",
    "sentences = [\"Das Haus ist wunderbar.\", \"Ich arbeite gerne in NYC.\"]"
   ]
  },
  {
   "cell_type": "code",
   "execution_count": 11,
   "id": "4d0b430e-dbc2-4754-9acf-2522c6f79651",
   "metadata": {},
   "outputs": [
    {
     "name": "stdout",
     "output_type": "stream",
     "text": [
      "The house is wonderful.\n",
      "I like working in NYC.\n"
     ]
    }
   ],
   "source": [
    "inputs = tokenizer([f\"{task_prefix}{sentence}\" for sentence in sentences], return_tensors=\"pt\", padding=True)\n",
    "outputs = model.generate(inputs[\"input_ids\"])\n",
    "print(tokenizer.decode(outputs[0], skip_special_tokens=True))\n",
    "print(tokenizer.decode(outputs[1], skip_special_tokens=True))"
   ]
  },
  {
   "cell_type": "code",
   "execution_count": 12,
   "id": "55a5806d-e978-47a1-9ed5-70a778d5ef4f",
   "metadata": {},
   "outputs": [
    {
     "data": {
      "text/plain": [
       "tensor([    0,  1150,  1925,    56,   380, 11897,    57, 13646,  3607,  4193,\n",
       "           13,  1783,    11,   523,     3,     5, 22849,     7, 13876,    16])"
      ]
     },
     "execution_count": 12,
     "metadata": {},
     "output_type": "execute_result"
    }
   ],
   "source": [
    "outputs[0]"
   ]
  },
  {
   "cell_type": "markdown",
   "id": "2119d0e3-2b15-4b5c-820d-b44780a37181",
   "metadata": {},
   "source": [
    "## There's a bug in the sentiment extraction model:"
   ]
  },
  {
   "cell_type": "code",
   "execution_count": 12,
   "id": "4d484f4e-08d0-43c0-b3d4-a8e4b490a365",
   "metadata": {},
   "outputs": [],
   "source": [
    "from transformers import AutoModelForSequenceClassification, AutoTokenizer\n",
    "\n",
    "tokenizer = AutoTokenizer.from_pretrained(\"finetuned-imdb-bert\")\n",
    "model = AutoModelForSequenceClassification.from_pretrained(\"finetuned-imdb-bert\")"
   ]
  },
  {
   "cell_type": "code",
   "execution_count": 13,
   "id": "d870bc33-226d-4523-8ec1-76c0851581ed",
   "metadata": {},
   "outputs": [],
   "source": [
    "text = \"Pirates of the Caribean was a horrible movie.\"\n"
   ]
  },
  {
   "cell_type": "code",
   "execution_count": 21,
   "id": "6fe2953b-be37-4a61-a285-e952b557a40a",
   "metadata": {},
   "outputs": [
    {
     "name": "stdout",
     "output_type": "stream",
     "text": [
      "Predicted 0 tensor([[0.9987, 0.0013]])\n"
     ]
    },
    {
     "name": "stderr",
     "output_type": "stream",
     "text": [
      "/var/folders/6v/nj127lc1663btr53s35_n_fh0000gn/T/ipykernel_71500/4045664043.py:13: UserWarning: Implicit dimension choice for softmax has been deprecated. Change the call to include dim=X as an argument.\n",
      "  probs = torch.nn.functional.softmax(logits)\n"
     ]
    }
   ],
   "source": [
    "import torch\n",
    "\n",
    "def sent_pred(text):\n",
    "\n",
    "    inputs = tokenizer(text, return_tensors=\"pt\")\n",
    "    \n",
    "    with torch.no_grad():\n",
    "    \n",
    "        logits = model(**inputs).logits\n",
    "    \n",
    "    predicted_class_id = logits.argmax().item()\n",
    "    predicted_label = model.config.id2label[predicted_class_id]\n",
    "    probs = torch.nn.functional.softmax(logits)\n",
    "    print(f\"Predicted {predicted_label} {probs}\")\n",
    "\n",
    "sent_pred(text)"
   ]
  },
  {
   "cell_type": "code",
   "execution_count": 23,
   "id": "3ec9f73d-7f51-44f9-ba49-3fd9fb6c0934",
   "metadata": {},
   "outputs": [
    {
     "name": "stdout",
     "output_type": "stream",
     "text": [
      "Predicted 0 tensor([[0.9903, 0.0097]])\n"
     ]
    },
    {
     "name": "stderr",
     "output_type": "stream",
     "text": [
      "/var/folders/6v/nj127lc1663btr53s35_n_fh0000gn/T/ipykernel_71500/4045664043.py:13: UserWarning: Implicit dimension choice for softmax has been deprecated. Change the call to include dim=X as an argument.\n",
      "  probs = torch.nn.functional.softmax(logits)\n"
     ]
    }
   ],
   "source": [
    "sent_pred(\"Inception was the worst\")"
   ]
  },
  {
   "cell_type": "code",
   "execution_count": 16,
   "id": "ef58545d-0bf6-4110-a585-857c283ee17f",
   "metadata": {},
   "outputs": [
    {
     "data": {
      "text/plain": [
       "0"
      ]
     },
     "execution_count": 16,
     "metadata": {},
     "output_type": "execute_result"
    }
   ],
   "source": []
  },
  {
   "cell_type": "markdown",
   "id": "07a241c7-964d-4aea-ad8b-93d76b657ae9",
   "metadata": {},
   "source": [
    "## Compare OpenAI and finetuned models:"
   ]
  },
  {
   "cell_type": "code",
   "execution_count": 30,
   "id": "400f28cd-475c-4ab8-a09b-a9402ef8b97c",
   "metadata": {},
   "outputs": [],
   "source": [
    "import pandas as pd\n",
    "\n",
    "cnn_test = pd.read_csv(\"data/cnn_dailymail/test.csv\")\n"
   ]
  },
  {
   "cell_type": "code",
   "execution_count": 31,
   "id": "38084a94-4bc9-42c6-9b37-6aab7533d71b",
   "metadata": {},
   "outputs": [
    {
     "data": {
      "text/html": [
       "<div>\n",
       "<style scoped>\n",
       "    .dataframe tbody tr th:only-of-type {\n",
       "        vertical-align: middle;\n",
       "    }\n",
       "\n",
       "    .dataframe tbody tr th {\n",
       "        vertical-align: top;\n",
       "    }\n",
       "\n",
       "    .dataframe thead th {\n",
       "        text-align: right;\n",
       "    }\n",
       "</style>\n",
       "<table border=\"1\" class=\"dataframe\">\n",
       "  <thead>\n",
       "    <tr style=\"text-align: right;\">\n",
       "      <th></th>\n",
       "      <th>id</th>\n",
       "      <th>article</th>\n",
       "      <th>highlights</th>\n",
       "    </tr>\n",
       "  </thead>\n",
       "  <tbody>\n",
       "    <tr>\n",
       "      <th>0</th>\n",
       "      <td>92c514c913c0bdfe25341af9fd72b29db544099b</td>\n",
       "      <td>Ever noticed how plane seats appear to be gett...</td>\n",
       "      <td>Experts question if  packed out planes are put...</td>\n",
       "    </tr>\n",
       "    <tr>\n",
       "      <th>1</th>\n",
       "      <td>2003841c7dc0e7c5b1a248f9cd536d727f27a45a</td>\n",
       "      <td>A drunk teenage boy had to be rescued by secur...</td>\n",
       "      <td>Drunk teenage boy climbed into lion enclosure ...</td>\n",
       "    </tr>\n",
       "    <tr>\n",
       "      <th>2</th>\n",
       "      <td>91b7d2311527f5c2b63a65ca98d21d9c92485149</td>\n",
       "      <td>Dougie Freedman is on the verge of agreeing a ...</td>\n",
       "      <td>Nottingham Forest are close to extending Dougi...</td>\n",
       "    </tr>\n",
       "    <tr>\n",
       "      <th>3</th>\n",
       "      <td>caabf9cbdf96eb1410295a673e953d304391bfbb</td>\n",
       "      <td>Liverpool target Neto is also wanted by PSG an...</td>\n",
       "      <td>Fiorentina goalkeeper Neto has been linked wit...</td>\n",
       "    </tr>\n",
       "    <tr>\n",
       "      <th>4</th>\n",
       "      <td>3da746a7d9afcaa659088c8366ef6347fe6b53ea</td>\n",
       "      <td>Bruce Jenner will break his silence in a two-h...</td>\n",
       "      <td>Tell-all interview with the reality TV star, 6...</td>\n",
       "    </tr>\n",
       "    <tr>\n",
       "      <th>...</th>\n",
       "      <td>...</td>\n",
       "      <td>...</td>\n",
       "      <td>...</td>\n",
       "    </tr>\n",
       "    <tr>\n",
       "      <th>11485</th>\n",
       "      <td>ed8674cc15b29a87d8df8de1efee353d71122272</td>\n",
       "      <td>Our young Earth may have collided with a body ...</td>\n",
       "      <td>Oxford scientists say a Mercury-like body stru...</td>\n",
       "    </tr>\n",
       "    <tr>\n",
       "      <th>11486</th>\n",
       "      <td>2f58d1a99e9c47914e4b1c31613e3a041cd9011e</td>\n",
       "      <td>A man facing trial for helping his former love...</td>\n",
       "      <td>Man accused of helping former lover kill woman...</td>\n",
       "    </tr>\n",
       "    <tr>\n",
       "      <th>11487</th>\n",
       "      <td>411f6d57825161c3a037b4742baccd6cd227c0c3</td>\n",
       "      <td>A dozen or more metal implements are arranged ...</td>\n",
       "      <td>Marianne Power tried the tuning fork facial at...</td>\n",
       "    </tr>\n",
       "    <tr>\n",
       "      <th>11488</th>\n",
       "      <td>b5683ef8342056b17b068e0d59bdbe87e3fe44ea</td>\n",
       "      <td>Brook Lopez dominated twin brother Robin with ...</td>\n",
       "      <td>Brooklyn Nets beat the Portland Trail Blazers ...</td>\n",
       "    </tr>\n",
       "    <tr>\n",
       "      <th>11489</th>\n",
       "      <td>a6a5491edb0c96c4391b6a8c4504416b3572b3a1</td>\n",
       "      <td>A Chinese hospital is being painstakingly move...</td>\n",
       "      <td>Chinese hospital marked for demolition because...</td>\n",
       "    </tr>\n",
       "  </tbody>\n",
       "</table>\n",
       "<p>11490 rows × 3 columns</p>\n",
       "</div>"
      ],
      "text/plain": [
       "                                             id  \\\n",
       "0      92c514c913c0bdfe25341af9fd72b29db544099b   \n",
       "1      2003841c7dc0e7c5b1a248f9cd536d727f27a45a   \n",
       "2      91b7d2311527f5c2b63a65ca98d21d9c92485149   \n",
       "3      caabf9cbdf96eb1410295a673e953d304391bfbb   \n",
       "4      3da746a7d9afcaa659088c8366ef6347fe6b53ea   \n",
       "...                                         ...   \n",
       "11485  ed8674cc15b29a87d8df8de1efee353d71122272   \n",
       "11486  2f58d1a99e9c47914e4b1c31613e3a041cd9011e   \n",
       "11487  411f6d57825161c3a037b4742baccd6cd227c0c3   \n",
       "11488  b5683ef8342056b17b068e0d59bdbe87e3fe44ea   \n",
       "11489  a6a5491edb0c96c4391b6a8c4504416b3572b3a1   \n",
       "\n",
       "                                                 article  \\\n",
       "0      Ever noticed how plane seats appear to be gett...   \n",
       "1      A drunk teenage boy had to be rescued by secur...   \n",
       "2      Dougie Freedman is on the verge of agreeing a ...   \n",
       "3      Liverpool target Neto is also wanted by PSG an...   \n",
       "4      Bruce Jenner will break his silence in a two-h...   \n",
       "...                                                  ...   \n",
       "11485  Our young Earth may have collided with a body ...   \n",
       "11486  A man facing trial for helping his former love...   \n",
       "11487  A dozen or more metal implements are arranged ...   \n",
       "11488  Brook Lopez dominated twin brother Robin with ...   \n",
       "11489  A Chinese hospital is being painstakingly move...   \n",
       "\n",
       "                                              highlights  \n",
       "0      Experts question if  packed out planes are put...  \n",
       "1      Drunk teenage boy climbed into lion enclosure ...  \n",
       "2      Nottingham Forest are close to extending Dougi...  \n",
       "3      Fiorentina goalkeeper Neto has been linked wit...  \n",
       "4      Tell-all interview with the reality TV star, 6...  \n",
       "...                                                  ...  \n",
       "11485  Oxford scientists say a Mercury-like body stru...  \n",
       "11486  Man accused of helping former lover kill woman...  \n",
       "11487  Marianne Power tried the tuning fork facial at...  \n",
       "11488  Brooklyn Nets beat the Portland Trail Blazers ...  \n",
       "11489  Chinese hospital marked for demolition because...  \n",
       "\n",
       "[11490 rows x 3 columns]"
      ]
     },
     "execution_count": 31,
     "metadata": {},
     "output_type": "execute_result"
    }
   ],
   "source": [
    "cnn_test"
   ]
  }
 ],
 "metadata": {
  "kernelspec": {
   "display_name": "Python 3 (ipykernel)",
   "language": "python",
   "name": "python3"
  },
  "language_info": {
   "codemirror_mode": {
    "name": "ipython",
    "version": 3
   },
   "file_extension": ".py",
   "mimetype": "text/x-python",
   "name": "python",
   "nbconvert_exporter": "python",
   "pygments_lexer": "ipython3",
   "version": "3.11.3"
  }
 },
 "nbformat": 4,
 "nbformat_minor": 5
}
